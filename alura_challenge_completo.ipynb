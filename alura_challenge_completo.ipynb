{
 "cells": [
  {
   "cell_type": "markdown",
   "id": "2dc027cb",
   "metadata": {},
   "source": [
    "# 📊 Análisis de rendimiento de Alura Store\n",
    "\n",
    "Este análisis busca identificar cuál de las 4 tiendas tiene menor desempeño para recomendar su venta al Sr. Juan."
   ]
  },
  {
   "cell_type": "code",
   "execution_count": null,
   "id": "7c186006",
   "metadata": {},
   "outputs": [],
   "source": [
    "import pandas as pd\n",
    "\n",
    "# Cargar los datos\n",
    "tienda1 = pd.read_csv(\"/mnt/data/alura_data/challenge1-data-science-latam-main/base-de-datos-challenge1-latam/tienda_1 .csv\")\n",
    "tienda2 = pd.read_csv(\"/mnt/data/alura_data/challenge1-data-science-latam-main/base-de-datos-challenge1-latam/tienda_2.csv\")\n",
    "tienda3 = pd.read_csv(\"/mnt/data/alura_data/challenge1-data-science-latam-main/base-de-datos-challenge1-latam/tienda_3.csv\")\n",
    "tienda4 = pd.read_csv(\"/mnt/data/alura_data/challenge1-data-science-latam-main/base-de-datos-challenge1-latam/tienda_4.csv\")\n",
    "\n",
    "tiendas = [tienda1, tienda2, tienda3, tienda4]\n",
    "nombres = ['Tienda 1', 'Tienda 2', 'Tienda 3', 'Tienda 4']\n"
   ]
  },
  {
   "cell_type": "markdown",
   "id": "ff2ac413",
   "metadata": {},
   "source": [
    "## 💵 Ingresos por tienda"
   ]
  },
  {
   "cell_type": "code",
   "execution_count": null,
   "id": "8ddcf5ea",
   "metadata": {},
   "outputs": [],
   "source": [
    "import matplotlib.pyplot as plt\n",
    "\n",
    "ingresos = [t[\"Precio\"].sum() for t in tiendas]\n",
    "\n",
    "plt.figure(figsize=(10,6))\n",
    "plt.bar(nombres, ingresos, color='lightgreen')\n",
    "plt.title(\"Ingresos Totales por Tienda\")\n",
    "plt.ylabel(\"Ingreso ($)\")\n",
    "plt.grid(axis='y')\n",
    "plt.show()"
   ]
  },
  {
   "cell_type": "markdown",
   "id": "f29981d7",
   "metadata": {},
   "source": [
    "## 🛍️ Categorías más populares"
   ]
  },
  {
   "cell_type": "code",
   "execution_count": null,
   "id": "77b5edc1",
   "metadata": {},
   "outputs": [],
   "source": [
    "for i, t in enumerate(tiendas):\n",
    "    print(f\"\\nCategorías más vendidas en {nombres[i]}\")\n",
    "    print(t.groupby(\"Categoría\")[\"Cantidad\"].sum().sort_values(ascending=False))"
   ]
  },
  {
   "cell_type": "markdown",
   "id": "c258a249",
   "metadata": {},
   "source": [
    "## 🌟 Evaluación promedio por tienda"
   ]
  },
  {
   "cell_type": "code",
   "execution_count": null,
   "id": "7981ccf6",
   "metadata": {},
   "outputs": [],
   "source": [
    "evaluaciones = [t[\"Evaluación\"].mean() for t in tiendas]\n",
    "\n",
    "plt.figure(figsize=(10,6))\n",
    "plt.bar(nombres, evaluaciones, color='orchid')\n",
    "plt.title(\"Evaluación Promedio por Tienda\")\n",
    "plt.ylabel(\"Promedio de Evaluación\")\n",
    "plt.ylim(0, 5)\n",
    "plt.grid(axis='y')\n",
    "plt.show()"
   ]
  },
  {
   "cell_type": "markdown",
   "id": "a2940ab0",
   "metadata": {},
   "source": [
    "## 🔝 Productos más y menos vendidos"
   ]
  },
  {
   "cell_type": "code",
   "execution_count": null,
   "id": "3c390ef4",
   "metadata": {},
   "outputs": [],
   "source": [
    "for i, t in enumerate(tiendas):\n",
    "    print(f\"\\n{nombres[i]}:\")\n",
    "    producto_mas = t.groupby(\"Producto\")[\"Cantidad\"].sum().idxmax()\n",
    "    producto_menos = t.groupby(\"Producto\")[\"Cantidad\"].sum().idxmin()\n",
    "    print(f\"Más vendido: {producto_mas}\")\n",
    "    print(f\"Menos vendido: {producto_menos}\")"
   ]
  },
  {
   "cell_type": "markdown",
   "id": "34e90838",
   "metadata": {},
   "source": [
    "## 🚚 Costo promedio de envío"
   ]
  },
  {
   "cell_type": "code",
   "execution_count": null,
   "id": "0dc26da5",
   "metadata": {},
   "outputs": [],
   "source": [
    "envio_promedio = [t[\"Costo Frete\"].mean() for t in tiendas]\n",
    "\n",
    "plt.figure(figsize=(10,6))\n",
    "plt.bar(nombres, envio_promedio, color='skyblue')\n",
    "plt.title(\"Costo Promedio de Envío\")\n",
    "plt.ylabel(\"Costo ($)\")\n",
    "plt.grid(axis='y')\n",
    "plt.show()"
   ]
  },
  {
   "cell_type": "markdown",
   "id": "bdc10fdd",
   "metadata": {},
   "source": [
    "## ✅ Conclusión y recomendación final"
   ]
  },
  {
   "cell_type": "markdown",
   "id": "0ea9fe69",
   "metadata": {},
   "source": [
    "Después de analizar los ingresos, categorías más vendidas, evaluación promedio de clientes, productos más/menos vendidos y costos de envío:\n",
    "\n",
    "- La Tienda X presenta el menor rendimiento general.\n",
    "- Tiene los ingresos más bajos, evaluaciones bajas y costos de envío elevados.\n",
    "\n",
    "**Recomendación:** El Sr. Juan debería considerar vender la Tienda X para reinvertir su capital en un nuevo negocio.\n",
    "\n",
    "*(Reemplaza Tienda X según tus resultados)*"
   ]
  }
 ],
 "metadata": {},
 "nbformat": 4,
 "nbformat_minor": 5
}
